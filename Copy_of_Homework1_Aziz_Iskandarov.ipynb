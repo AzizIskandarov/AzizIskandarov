{
  "nbformat": 4,
  "nbformat_minor": 0,
  "metadata": {
    "colab": {
      "name": "Copy of Homework1-Aziz_Iskandarov.ipynb",
      "provenance": [],
      "collapsed_sections": [],
      "include_colab_link": true
    },
    "kernelspec": {
      "name": "python3",
      "display_name": "Python 3"
    },
    "language_info": {
      "name": "python"
    }
  },
  "cells": [
    {
      "cell_type": "markdown",
      "metadata": {
        "id": "view-in-github",
        "colab_type": "text"
      },
      "source": [
        "<a href=\"https://colab.research.google.com/github/AzizIskandarov/AzizIskandarov/blob/main/Copy_of_Homework1_Aziz_Iskandarov.ipynb\" target=\"_parent\"><img src=\"https://colab.research.google.com/assets/colab-badge.svg\" alt=\"Open In Colab\"/></a>"
      ]
    },
    {
      "cell_type": "code",
      "execution_count": null,
      "metadata": {
        "id": "jrVeHsm1rpdT",
        "colab": {
          "base_uri": "https://localhost:8080/"
        },
        "outputId": "b4330f8b-c134-44eb-bc8f-edda8d7d989a"
      },
      "outputs": [
        {
          "output_type": "stream",
          "name": "stdout",
          "text": [
            "What is your name? Aziz\n",
            "What is your age? 20\n",
            "My name is Aziz and my age is 20\n"
          ]
        }
      ],
      "source": [
        "#Q1-Get your name and age as input and print it in the form like\n",
        "#Your name is Hulisi. Your age is 43\n",
        "name=input('What is your name? ')\n",
        "age=input('What is your age? ')\n",
        "print(\"My name is\", name, \"and my age is\", age)"
      ]
    },
    {
      "cell_type": "code",
      "source": [
        "#Q2-Write a if statement for a given two number is equal or not\n",
        "a=43\n",
        "b=54\n",
        "if a==b:\n",
        "  print('a is equal to b')\n",
        "else:\n",
        "  print('a is not equal to b')"
      ],
      "metadata": {
        "id": "7Sfg03_PuVWa",
        "outputId": "91df585d-cc91-4b3c-e2eb-4ea98a063e29",
        "colab": {
          "base_uri": "https://localhost:8080/"
        }
      },
      "execution_count": null,
      "outputs": [
        {
          "output_type": "stream",
          "name": "stdout",
          "text": [
            "a is not equal to b\n"
          ]
        }
      ]
    },
    {
      "cell_type": "code",
      "source": [
        "#Q3-Write a if statement for first number is greater (a), equal or less than second number.(b)\n",
        "a=43\n",
        "b=54\n",
        "if a>b:\n",
        "  print('First number is greater')\n",
        "else:\n",
        "  print ('First number is equal or less than second number')"
      ],
      "metadata": {
        "id": "NtUibZ07u5gs",
        "outputId": "92af7715-0f81-4ff5-d44c-0d2ec2345f1e",
        "colab": {
          "base_uri": "https://localhost:8080/"
        }
      },
      "execution_count": null,
      "outputs": [
        {
          "output_type": "stream",
          "name": "stdout",
          "text": [
            "First number is equal or less than second number\n"
          ]
        }
      ]
    },
    {
      "cell_type": "code",
      "source": [
        "#Q4- Using for loop, print 1,2,3,4,5\n",
        "for k in range(1,6):\n",
        "  print(k)"
      ],
      "metadata": {
        "id": "U1UMQv36wNHP",
        "outputId": "3ae264f5-d011-4c88-c2db-c3a1daf241e1",
        "colab": {
          "base_uri": "https://localhost:8080/"
        }
      },
      "execution_count": null,
      "outputs": [
        {
          "output_type": "stream",
          "name": "stdout",
          "text": [
            "1\n",
            "2\n",
            "3\n",
            "4\n",
            "5\n"
          ]
        }
      ]
    },
    {
      "cell_type": "code",
      "source": [
        "#Q5-Using while loop, print 5,4,3,2,1\n",
        "i=5\n",
        "while (i>0):\n",
        "  print(i)\n",
        "  i=i-1"
      ],
      "metadata": {
        "id": "bh5Lga7XxGY8",
        "outputId": "b0673649-0683-482a-a607-745996e69461",
        "colab": {
          "base_uri": "https://localhost:8080/"
        }
      },
      "execution_count": null,
      "outputs": [
        {
          "output_type": "stream",
          "name": "stdout",
          "text": [
            "5\n",
            "4\n",
            "3\n",
            "2\n",
            "1\n"
          ]
        }
      ]
    },
    {
      "cell_type": "code",
      "source": [
        "#Q6- Using for loop, print 10,6,4,2,0\n",
        "#Hint Print if number is not equal to 8.\n",
        "for k in range(10,-1,-2):\n",
        "  if k==8:\n",
        "    continue\n",
        "  print(k)"
      ],
      "metadata": {
        "id": "cXTTDS49xSoi",
        "outputId": "cbef6446-253f-4dac-c806-39b330cf674d",
        "colab": {
          "base_uri": "https://localhost:8080/"
        }
      },
      "execution_count": null,
      "outputs": [
        {
          "output_type": "stream",
          "name": "stdout",
          "text": [
            "10\n",
            "6\n",
            "4\n",
            "2\n",
            "0\n"
          ]
        }
      ]
    },
    {
      "cell_type": "code",
      "source": [
        "#Solution with hint\n",
        "for k in range(10,-1,-2):\n",
        "  if k!=8:\n",
        "    print(k)"
      ],
      "metadata": {
        "colab": {
          "base_uri": "https://localhost:8080/"
        },
        "id": "Vd54q08r9voP",
        "outputId": "ce420cf9-250f-47e1-fdc0-fc0cd56b466d"
      },
      "execution_count": null,
      "outputs": [
        {
          "output_type": "stream",
          "name": "stdout",
          "text": [
            "10\n",
            "6\n",
            "4\n",
            "2\n",
            "0\n"
          ]
        }
      ]
    },
    {
      "cell_type": "code",
      "source": [
        "#Q7-Write a method to calculate age for a given date of birth year.\n",
        "#Use this method on orer to calculate age of person if date of birth is 1944\n",
        "# if age is the name of function, print(age(1944))\n",
        "\n",
        "def age(x):\n",
        "   return 2022-x\n",
        "print(age(1944))"
      ],
      "metadata": {
        "id": "geUjb-vuyYbF",
        "outputId": "43c053c9-00f3-4118-e34e-8243c7263897",
        "colab": {
          "base_uri": "https://localhost:8080/"
        }
      },
      "execution_count": null,
      "outputs": [
        {
          "output_type": "stream",
          "name": "stdout",
          "text": [
            "78\n"
          ]
        }
      ]
    },
    {
      "cell_type": "code",
      "source": [
        "#Q8-Write a class named arithmetic with method for calculating addition, substraction, multiplication and division of two numbers.\n",
        "class arithmetic:\n",
        "  def addition(x,y):\n",
        "    return x+y\n",
        "  def substraction(x,y):\n",
        "    return x-y\n",
        "  def multiplication(x,y):\n",
        "    return x*y\n",
        "  def division(x,y):\n",
        "    return x/y\n",
        "\n",
        "print(arithmetic.addition(6,8))\n",
        "print(arithmetic.substraction(13,4))\n",
        "print(arithmetic.multiplication(4,5))\n",
        "print(arithmetic.division(12,6))"
      ],
      "metadata": {
        "colab": {
          "base_uri": "https://localhost:8080/"
        },
        "id": "wZaw4LCGqSKY",
        "outputId": "321f512a-e6d8-47c0-9d2e-6180300bba01"
      },
      "execution_count": null,
      "outputs": [
        {
          "output_type": "stream",
          "name": "stdout",
          "text": [
            "14\n",
            "9\n",
            "20\n",
            "2.0\n"
          ]
        }
      ]
    },
    {
      "cell_type": "code",
      "source": [
        "#Q8-Write a class named arithmetic with method for calculating addition, substraction, multiplication and division of two numbers.\n",
        "num1=float(input(\"Enter the first number : \"))\n",
        "num2=float(input(\"Enter the second number : \"))\n",
        "op=input(\"Enter the type of the operation *, /, +, - : \")\n",
        "if op==\"*\":\n",
        "  a=(num1 * num2)\n",
        "  print(\"The multiplication is \", a)\n",
        "elif op==\"/\":\n",
        "  if num2==0:\n",
        "    print('It is not defined')  \n",
        "  else:\n",
        "    a=((num1)/ (num2))\n",
        "    print(\"The division is \", a)\n",
        "elif op==\"+\":\n",
        "  a=num1+num2\n",
        "  print(\"The addition is \", a)\n",
        "elif op==\"-\":\n",
        "  a=num1-num2\n",
        "  print(\"The substraction is \", a)\n",
        "else:\n",
        "  print(\"For this context it is not defined\")\n",
        "\n",
        "#Actually, it not solution with the class,(solution with the class is mentioned above with again named Q8) however I generally write algoritm for addition, substraction, multiplication and division of two numbers.\n"
      ],
      "metadata": {
        "id": "YcyFzE3fzC7_"
      },
      "execution_count": null,
      "outputs": []
    },
    {
      "cell_type": "code",
      "source": [
        "#Q9- write a for loop or method  to calculate summation of first n numbers\n",
        "#i.e if n=3, it will print or return 6 (1+2+3)\n",
        "sum=0\n",
        "n=int(input(\"Enter n: \"))\n",
        "for i in range(1, n + 1):\n",
        "  sum=sum+i\n",
        "print(\"Summation of first\", n, \"number is\", sum)\n"
      ],
      "metadata": {
        "id": "AUJWr5YqzadI",
        "outputId": "3d36af36-228a-499b-90ec-b0c984fabf98",
        "colab": {
          "base_uri": "https://localhost:8080/"
        }
      },
      "execution_count": null,
      "outputs": [
        {
          "output_type": "stream",
          "name": "stdout",
          "text": [
            "Enter n: 50\n",
            "Summation of first 50 number is 1275\n"
          ]
        }
      ]
    },
    {
      "cell_type": "code",
      "source": [
        "#Q10-Generate 10 numbers between 0 and 1 and add into list. Print first three elements of that list. \n",
        "import numpy as np\n",
        "k=[]\n",
        "for n in range(0,11):\n",
        "  k.append(np.random.rand())\n",
        "print(k[0:3])\n"
      ],
      "metadata": {
        "id": "hmtvJdCL02qx",
        "outputId": "82b4529b-7392-4aa6-baf3-4d2c41de3f8b",
        "colab": {
          "base_uri": "https://localhost:8080/"
        }
      },
      "execution_count": null,
      "outputs": [
        {
          "output_type": "stream",
          "name": "stdout",
          "text": [
            "[0.27775978612363095, 0.8843802697372575, 0.3336353306380855]\n"
          ]
        }
      ]
    },
    {
      "cell_type": "code",
      "source": [
        "#Q11-For a given number n, print numbers divisible by 3 up to that number(n included)\n",
        "#Example: if n=15, print 3,6,9,12,15\n",
        "#Hint you can use modulus statement (if (i%3==0))\n",
        "n=int(input(\"Enter n : \"))\n",
        "for k in range (1, n+1):\n",
        "  if k%3==0:\n",
        "    print(k)\n"
      ],
      "metadata": {
        "id": "5O6Y2CujcAAs",
        "outputId": "fd2ac55d-4847-4405-e8e8-5abee98b7f96",
        "colab": {
          "base_uri": "https://localhost:8080/"
        }
      },
      "execution_count": null,
      "outputs": [
        {
          "output_type": "stream",
          "name": "stdout",
          "text": [
            "Enter n : 10\n",
            "3\n",
            "6\n",
            "9\n"
          ]
        }
      ]
    }
  ]
}